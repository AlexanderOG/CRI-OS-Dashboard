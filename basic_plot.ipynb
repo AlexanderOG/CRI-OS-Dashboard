import matplotlib.pyplot as plt
import pandas as pd

df1 = pd.read_csv('https://raw.githubusercontent.com/CSSEGISandData/COVID-19/master/csse_covid_19_data/csse_covid_19_time_series/time_series_covid19_confirmed_global.csv')
df1.head()

#df_usa_new_cases = df2[['iso_code', 'new_cases']].loc[df2['iso_code'] == 'USA'].reset_index()

df_countries_new_cases = df1[['Country/Region', '3/31/22']].reset_index()

# use the plot function
plt.figure(figsize=(15,5))
plt.plot(df_countries_new_cases['3/31/22'])
plt.legend(['Describtion for line'])
plt.title('Title goes here')

plt.show()

df_countries_new_cases
